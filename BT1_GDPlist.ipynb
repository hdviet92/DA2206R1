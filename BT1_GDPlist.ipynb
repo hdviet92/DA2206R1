{
 "cells": [
  {
   "cell_type": "code",
   "execution_count": 1,
   "id": "198187e1",
   "metadata": {
    "scrolled": false
   },
   "outputs": [
    {
     "data": {
      "text/html": [
       "<div>\n",
       "<style scoped>\n",
       "    .dataframe tbody tr th:only-of-type {\n",
       "        vertical-align: middle;\n",
       "    }\n",
       "\n",
       "    .dataframe tbody tr th {\n",
       "        vertical-align: top;\n",
       "    }\n",
       "\n",
       "    .dataframe thead th {\n",
       "        text-align: right;\n",
       "    }\n",
       "</style>\n",
       "<table border=\"1\" class=\"dataframe\">\n",
       "  <thead>\n",
       "    <tr style=\"text-align: right;\">\n",
       "      <th></th>\n",
       "      <th>Country</th>\n",
       "      <th>Continent</th>\n",
       "      <th>GDP (millions of US$)</th>\n",
       "    </tr>\n",
       "  </thead>\n",
       "  <tbody>\n",
       "    <tr>\n",
       "      <th>0</th>\n",
       "      <td>Afghanistan</td>\n",
       "      <td>Asia</td>\n",
       "      <td>18181</td>\n",
       "    </tr>\n",
       "    <tr>\n",
       "      <th>1</th>\n",
       "      <td>Albania</td>\n",
       "      <td>Europe</td>\n",
       "      <td>12847</td>\n",
       "    </tr>\n",
       "    <tr>\n",
       "      <th>2</th>\n",
       "      <td>Algeria</td>\n",
       "      <td>Africa</td>\n",
       "      <td>190709</td>\n",
       "    </tr>\n",
       "    <tr>\n",
       "      <th>3</th>\n",
       "      <td>Angola</td>\n",
       "      <td>Africa</td>\n",
       "      <td>100948</td>\n",
       "    </tr>\n",
       "    <tr>\n",
       "      <th>4</th>\n",
       "      <td>Argentina</td>\n",
       "      <td>South America</td>\n",
       "      <td>447644</td>\n",
       "    </tr>\n",
       "    <tr>\n",
       "      <th>...</th>\n",
       "      <td>...</td>\n",
       "      <td>...</td>\n",
       "      <td>...</td>\n",
       "    </tr>\n",
       "    <tr>\n",
       "      <th>120</th>\n",
       "      <td>Uzbekistan</td>\n",
       "      <td>Asia</td>\n",
       "      <td>45353</td>\n",
       "    </tr>\n",
       "    <tr>\n",
       "      <th>121</th>\n",
       "      <td>Venezuela</td>\n",
       "      <td>South America</td>\n",
       "      <td>315841</td>\n",
       "    </tr>\n",
       "    <tr>\n",
       "      <th>122</th>\n",
       "      <td>Vietnam</td>\n",
       "      <td>Asia</td>\n",
       "      <td>122722</td>\n",
       "    </tr>\n",
       "    <tr>\n",
       "      <th>123</th>\n",
       "      <td>Yemen</td>\n",
       "      <td>Africa</td>\n",
       "      <td>33675</td>\n",
       "    </tr>\n",
       "    <tr>\n",
       "      <th>124</th>\n",
       "      <td>Zambia</td>\n",
       "      <td>Africa</td>\n",
       "      <td>19206</td>\n",
       "    </tr>\n",
       "  </tbody>\n",
       "</table>\n",
       "<p>125 rows × 3 columns</p>\n",
       "</div>"
      ],
      "text/plain": [
       "          Country      Continent  GDP (millions of US$)\n",
       "0     Afghanistan           Asia                  18181\n",
       "1         Albania         Europe                  12847\n",
       "2         Algeria         Africa                 190709\n",
       "3          Angola         Africa                 100948\n",
       "4       Argentina  South America                 447644\n",
       "..            ...            ...                    ...\n",
       "120    Uzbekistan           Asia                  45353\n",
       "121     Venezuela  South America                 315841\n",
       "122       Vietnam           Asia                 122722\n",
       "123         Yemen         Africa                  33675\n",
       "124        Zambia         Africa                  19206\n",
       "\n",
       "[125 rows x 3 columns]"
      ]
     },
     "metadata": {},
     "output_type": "display_data"
    },
    {
     "name": "stdout",
     "output_type": "stream",
     "text": [
      "<class 'pandas.core.frame.DataFrame'>\n",
      "RangeIndex: 125 entries, 0 to 124\n",
      "Data columns (total 3 columns):\n",
      " #   Column                 Non-Null Count  Dtype \n",
      "---  ------                 --------------  ----- \n",
      " 0   Country                125 non-null    object\n",
      " 1   Continent              125 non-null    object\n",
      " 2   GDP (millions of US$)  125 non-null    int64 \n",
      "dtypes: int64(1), object(2)\n",
      "memory usage: 3.1+ KB\n"
     ]
    }
   ],
   "source": [
    "import numpy as np\n",
    "import pandas as pd\n",
    "import matplotlib.pyplot as plt\n",
    "data = pd.read_csv(\"GDPlist.csv\", header=0, encoding='ISO-8859-1')\n",
    "display(data)\n",
    "data.info()"
   ]
  },
  {
   "cell_type": "code",
   "execution_count": 2,
   "id": "795c34b7",
   "metadata": {},
   "outputs": [
    {
     "name": "stdout",
     "output_type": "stream",
     "text": [
      "Số dòng: 125 và số cột: 3\n"
     ]
    }
   ],
   "source": [
    "print('Số dòng:', data.shape[0],'và số cột:', data.shape[1])"
   ]
  },
  {
   "cell_type": "code",
   "execution_count": 3,
   "id": "3cc4b4a6",
   "metadata": {},
   "outputs": [
    {
     "name": "stdout",
     "output_type": "stream",
     "text": [
      "Thuộc tính của Country là định danh nominal\n",
      "Thuộc tính của Continent là định danh nominal\n",
      "Thuộc tính của GDP (millions of US$) là định tính ratio\n"
     ]
    }
   ],
   "source": [
    "print('Thuộc tính của', data.columns[0], 'là định danh nominal')\n",
    "print('Thuộc tính của', data.columns[1], 'là định danh nominal')\n",
    "print('Thuộc tính của', data.columns[2], 'là định tính ratio')"
   ]
  },
  {
   "cell_type": "code",
   "execution_count": 4,
   "id": "4fc7237a",
   "metadata": {
    "scrolled": false
   },
   "outputs": [
    {
     "data": {
      "image/png": "[encoded data removed]",
      "text/plain": [
       "<Figure size 432x288 with 1 Axes>"
      ]
     },
     "metadata": {
      "needs_background": "light"
     },
     "output_type": "display_data"
    }
   ],
   "source": [
    "# vẽ biểu đồ các nước GDP\n",
    "# cách 1\n",
    "data.hist(column='GDP (millions of US$)', bins=60)\n",
    "plt.xlabel(\"GDP\")\n",
    "plt.ylabel(\"Số lượng nước\")\n",
    "plt.show()"
   ]
  },
  {
   "cell_type": "code",
   "execution_count": 5,
   "id": "d898af5c",
   "metadata": {},
   "outputs": [
    {
     "data": {
      "image/png": "[encoded data removed]",
      "text/plain": [
       "<Figure size 432x288 with 1 Axes>"
      ]
     },
     "metadata": {
      "needs_background": "light"
     },
     "output_type": "display_data"
    },
    {
     "name": "stdout",
     "output_type": "stream",
     "text": [
      "Nhận xét: GDP các nước không đồng đều. Đa số các nước có GDP còn rất thất, một số nước thì có GDP cao bật hẳn lên\n"
     ]
    }
   ],
   "source": [
    "# Cách 2 dùng matplotlib\n",
    "plt.hist(data['GDP (millions of US$)'], bins=60)\n",
    "plt.grid(True)\n",
    "plt.title('GDP (millions of US$)')\n",
    "plt.xlabel(\"GDP\")\n",
    "plt.ylabel(\"Số lượng nước\")\n",
    "plt.show()\n",
    "print('Nhận xét: GDP các nước không đồng đều. Đa số các nước có GDP còn rất thất, một số nước thì có GDP cao bật hẳn lên')"
   ]
  },
  {
   "cell_type": "code",
   "execution_count": 6,
   "id": "78df8d27",
   "metadata": {
    "scrolled": true
   },
   "outputs": [
    {
     "name": "stdout",
     "output_type": "stream",
     "text": [
      "Trong bảng dữ liệu có các châu lục: Asia, Europe, Africa, South America, Oceania, North America\n",
      "Số lương châu luc: 6\n"
     ]
    }
   ],
   "source": [
    "# Mỗi châu lục có bao nhiêu quốc gia nằm trong bảng dữ liệu\n",
    "chauluc = data[data.columns[1]].unique()\n",
    "print('Trong bảng dữ liệu có các châu lục', end=': ')\n",
    "print(*chauluc, sep=', ')\n",
    "print('Số lương châu luc:', chauluc.size)"
   ]
  },
  {
   "cell_type": "code",
   "execution_count": 7,
   "id": "db407357",
   "metadata": {
    "scrolled": true
   },
   "outputs": [
    {
     "name": "stdout",
     "output_type": "stream",
     "text": [
      "Số lượng các quốc gia của các châu lục: Africa, Asia, Europe, North America, Oceania, South America lần lượt: 29, 36, 37, 11, 3, 9\n"
     ]
    }
   ],
   "source": [
    "# số lương các quốc gia nằm trong châu lục\n",
    "soquocgia = data.groupby(data.columns[1])[data.columns[0]].count()\n",
    "print('Số lượng các quốc gia của các châu lục:', end=' ')\n",
    "print(*soquocgia.index, sep=', ', end=' ')\n",
    "print('lần lượt:', end=' ')\n",
    "print(*soquocgia, sep=', ')"
   ]
  },
  {
   "cell_type": "code",
   "execution_count": 8,
   "id": "fd25f9fa",
   "metadata": {
    "scrolled": true
   },
   "outputs": [
    {
     "name": "stdout",
     "output_type": "stream",
     "text": [
      "GDP của các châu lục: Africa, Asia, Europe, North America, Oceania, South America lần lượt: 1820811, 24425891, 19139380, 18238447, 1662727, 4141217\n"
     ]
    }
   ],
   "source": [
    "# tổng gdp của các châu lục\n",
    "gdp = data.groupby(data.columns[1])[data.columns[2]].sum()\n",
    "print('GDP của các châu lục:', end=' ')\n",
    "print(*gdp.index, sep=', ', end=' ')\n",
    "print('lần lượt:', end=' ')\n",
    "print(*gdp, sep=', ')"
   ]
  },
  {
   "cell_type": "code",
   "execution_count": 9,
   "id": "ab07eeb3",
   "metadata": {
    "scrolled": false
   },
   "outputs": [
    {
     "name": "stdout",
     "output_type": "stream",
     "text": [
      "Top 10 quốc gia có GDP cao nhất:  United States,  China,  Japan,  Germany,  France,  Brazil,  United Kingdom,  Italy,  Russia,  Canada lần lượt: 15094025, 7298147, 5869471, 3577031, 2776324, 2492908, 2417570, 2198730, 1850401, 1736869\n"
     ]
    }
   ],
   "source": [
    "# top 10 quốc gia có GDP cao nhất\n",
    "sapxepgiamdan = data.groupby(data.columns[0])[data.columns[2]].sum().sort_values(ascending=False)\n",
    "top10 = sapxepgiamdan.head(10)\n",
    "print('Top 10 quốc gia có GDP cao nhất:', end=' ')\n",
    "print(*top10.index, sep=', ', end=' ')\n",
    "print('lần lượt:', end=' ')\n",
    "print(*top10, sep=', ')"
   ]
  },
  {
   "cell_type": "code",
   "execution_count": null,
   "id": "2416dd4c",
   "metadata": {},
   "outputs": [],
   "source": []
  }
 ],
 "metadata": {
  "kernelspec": {
   "display_name": "Python 3 (ipykernel)",
   "language": "python",
   "name": "python3"
  },
  "language_info": {
   "codemirror_mode": {
    "name": "ipython",
    "version": 3
   },
   "file_extension": ".py",
   "mimetype": "text/x-python",
   "name": "python",
   "nbconvert_exporter": "python",
   "pygments_lexer": "ipython3",
   "version": "3.9.7"
  }
 },
 "nbformat": 4,
 "nbformat_minor": 5
}
